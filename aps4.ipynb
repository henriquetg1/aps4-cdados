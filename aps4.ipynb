{
 "cells": [
  {
   "cell_type": "markdown",
   "metadata": {},
   "source": [
    "APS 4 - Ciência de Dados\n",
    "\n",
    "Desempenho de Novak Djokovic com Rafael Nadal e Roger Federer, em atividade e com ritmo diminuído, em Grand Slams, Masters 1000, Masters Cup (ATP Finals)"
   ]
  },
  {
   "cell_type": "code",
   "execution_count": 2,
   "metadata": {},
   "outputs": [],
   "source": [
    "import pandas as pd\n",
    "import scipy.stats as stats"
   ]
  },
  {
   "cell_type": "code",
   "execution_count": 3,
   "metadata": {},
   "outputs": [],
   "source": [
    "df = pd.read_csv('dados/atp_tennis.csv')"
   ]
  },
  {
   "cell_type": "code",
   "execution_count": 4,
   "metadata": {},
   "outputs": [],
   "source": [
    "# Adiciona a coluna 'Loser' ao dataframe\n",
    "df['Loser'] = ''\n",
    "\n",
    "for i in range(len(df)):\n",
    "    if df['Player_1'][i] == df['Winner'][i]:\n",
    "        df.loc[i, 'Loser'] = df['Player_2'][i]\n",
    "    else:\n",
    "        df.loc[i, 'Loser'] = df['Player_1'][i]"
   ]
  },
  {
   "cell_type": "markdown",
   "metadata": {},
   "source": [
    "2013 até 2019"
   ]
  },
  {
   "cell_type": "code",
   "execution_count": 5,
   "metadata": {},
   "outputs": [
    {
     "data": {
      "text/html": [
       "<div>\n",
       "<style scoped>\n",
       "    .dataframe tbody tr th:only-of-type {\n",
       "        vertical-align: middle;\n",
       "    }\n",
       "\n",
       "    .dataframe tbody tr th {\n",
       "        vertical-align: top;\n",
       "    }\n",
       "\n",
       "    .dataframe thead th {\n",
       "        text-align: right;\n",
       "    }\n",
       "</style>\n",
       "<table border=\"1\" class=\"dataframe\">\n",
       "  <thead>\n",
       "    <tr style=\"text-align: right;\">\n",
       "      <th></th>\n",
       "      <th>Tournament</th>\n",
       "      <th>Date</th>\n",
       "      <th>Series</th>\n",
       "      <th>Court</th>\n",
       "      <th>Surface</th>\n",
       "      <th>Round</th>\n",
       "      <th>Best of</th>\n",
       "      <th>Player_1</th>\n",
       "      <th>Player_2</th>\n",
       "      <th>Winner</th>\n",
       "      <th>Rank_1</th>\n",
       "      <th>Rank_2</th>\n",
       "      <th>Pts_1</th>\n",
       "      <th>Pts_2</th>\n",
       "      <th>Odd_1</th>\n",
       "      <th>Odd_2</th>\n",
       "      <th>score</th>\n",
       "      <th>Loser</th>\n",
       "    </tr>\n",
       "  </thead>\n",
       "  <tbody>\n",
       "    <tr>\n",
       "      <th>138</th>\n",
       "      <td>Australian Open</td>\n",
       "      <td>2013-01-14</td>\n",
       "      <td>Grand Slam</td>\n",
       "      <td>Outdoor</td>\n",
       "      <td>Hard</td>\n",
       "      <td>1st Round</td>\n",
       "      <td>5</td>\n",
       "      <td>Almagro N.</td>\n",
       "      <td>Johnson S.</td>\n",
       "      <td>Almagro N.</td>\n",
       "      <td>11</td>\n",
       "      <td>175</td>\n",
       "      <td>2515</td>\n",
       "      <td>302</td>\n",
       "      <td>1.14</td>\n",
       "      <td>5.50</td>\n",
       "      <td>7-5 6-7 6-2 6-7 6-2</td>\n",
       "      <td>Johnson S.</td>\n",
       "    </tr>\n",
       "    <tr>\n",
       "      <th>139</th>\n",
       "      <td>Australian Open</td>\n",
       "      <td>2013-01-14</td>\n",
       "      <td>Grand Slam</td>\n",
       "      <td>Outdoor</td>\n",
       "      <td>Hard</td>\n",
       "      <td>1st Round</td>\n",
       "      <td>5</td>\n",
       "      <td>Hanescu V.</td>\n",
       "      <td>Nishikori K.</td>\n",
       "      <td>Nishikori K.</td>\n",
       "      <td>63</td>\n",
       "      <td>18</td>\n",
       "      <td>753</td>\n",
       "      <td>1870</td>\n",
       "      <td>9.00</td>\n",
       "      <td>1.07</td>\n",
       "      <td>7-6 3-6 1-6 3-6</td>\n",
       "      <td>Hanescu V.</td>\n",
       "    </tr>\n",
       "    <tr>\n",
       "      <th>140</th>\n",
       "      <td>Australian Open</td>\n",
       "      <td>2013-01-14</td>\n",
       "      <td>Grand Slam</td>\n",
       "      <td>Outdoor</td>\n",
       "      <td>Hard</td>\n",
       "      <td>1st Round</td>\n",
       "      <td>5</td>\n",
       "      <td>Rufin G.</td>\n",
       "      <td>Reister J.</td>\n",
       "      <td>Rufin G.</td>\n",
       "      <td>92</td>\n",
       "      <td>296</td>\n",
       "      <td>574</td>\n",
       "      <td>153</td>\n",
       "      <td>2.25</td>\n",
       "      <td>1.57</td>\n",
       "      <td>4-6 7-6 6-1 6-2</td>\n",
       "      <td>Reister J.</td>\n",
       "    </tr>\n",
       "    <tr>\n",
       "      <th>141</th>\n",
       "      <td>Australian Open</td>\n",
       "      <td>2013-01-14</td>\n",
       "      <td>Grand Slam</td>\n",
       "      <td>Outdoor</td>\n",
       "      <td>Hard</td>\n",
       "      <td>1st Round</td>\n",
       "      <td>5</td>\n",
       "      <td>Authom M.</td>\n",
       "      <td>Berlocq C.</td>\n",
       "      <td>Berlocq C.</td>\n",
       "      <td>156</td>\n",
       "      <td>68</td>\n",
       "      <td>351</td>\n",
       "      <td>720</td>\n",
       "      <td>1.61</td>\n",
       "      <td>2.20</td>\n",
       "      <td>6-1 6-7 6-7 2-6</td>\n",
       "      <td>Authom M.</td>\n",
       "    </tr>\n",
       "    <tr>\n",
       "      <th>142</th>\n",
       "      <td>Australian Open</td>\n",
       "      <td>2013-01-14</td>\n",
       "      <td>Grand Slam</td>\n",
       "      <td>Outdoor</td>\n",
       "      <td>Hard</td>\n",
       "      <td>1st Round</td>\n",
       "      <td>5</td>\n",
       "      <td>Benneteau J.</td>\n",
       "      <td>Dimitrov G.</td>\n",
       "      <td>Benneteau J.</td>\n",
       "      <td>38</td>\n",
       "      <td>41</td>\n",
       "      <td>1015</td>\n",
       "      <td>1008</td>\n",
       "      <td>2.50</td>\n",
       "      <td>1.50</td>\n",
       "      <td>6-4 6-2 6-4</td>\n",
       "      <td>Dimitrov G.</td>\n",
       "    </tr>\n",
       "  </tbody>\n",
       "</table>\n",
       "</div>"
      ],
      "text/plain": [
       "          Tournament        Date      Series    Court Surface      Round  \\\n",
       "138  Australian Open  2013-01-14  Grand Slam  Outdoor    Hard  1st Round   \n",
       "139  Australian Open  2013-01-14  Grand Slam  Outdoor    Hard  1st Round   \n",
       "140  Australian Open  2013-01-14  Grand Slam  Outdoor    Hard  1st Round   \n",
       "141  Australian Open  2013-01-14  Grand Slam  Outdoor    Hard  1st Round   \n",
       "142  Australian Open  2013-01-14  Grand Slam  Outdoor    Hard  1st Round   \n",
       "\n",
       "     Best of      Player_1      Player_2        Winner  Rank_1  Rank_2  Pts_1  \\\n",
       "138        5    Almagro N.    Johnson S.    Almagro N.      11     175   2515   \n",
       "139        5    Hanescu V.  Nishikori K.  Nishikori K.      63      18    753   \n",
       "140        5      Rufin G.    Reister J.      Rufin G.      92     296    574   \n",
       "141        5     Authom M.    Berlocq C.    Berlocq C.     156      68    351   \n",
       "142        5  Benneteau J.   Dimitrov G.  Benneteau J.      38      41   1015   \n",
       "\n",
       "     Pts_2  Odd_1  Odd_2                score        Loser  \n",
       "138    302   1.14   5.50  7-5 6-7 6-2 6-7 6-2   Johnson S.  \n",
       "139   1870   9.00   1.07     7-6 3-6 1-6 3-6    Hanescu V.  \n",
       "140    153   2.25   1.57     4-6 7-6 6-1 6-2    Reister J.  \n",
       "141    720   1.61   2.20     6-1 6-7 6-7 2-6     Authom M.  \n",
       "142   1008   2.50   1.50        6-4 6-2 6-4    Dimitrov G.  "
      ]
     },
     "execution_count": 5,
     "metadata": {},
     "output_type": "execute_result"
    }
   ],
   "source": [
    "# Filtro anos 2013 até 2019 (análise com Nadal e Federer)\n",
    "filtro_com_fedal = (df['Date'] > '2013-01-01') & (df['Date'] < '2020-01-01')\n",
    "df_fedal = df[filtro_com_fedal]\n",
    "\n",
    "# Filtro desses anos, mas somente os torneios ATP 1000, Grand Slam e ATP Finals\n",
    "filtro_atp1000_gs_finals = (df_fedal['Series'] == 'Grand Slam') | (df_fedal['Series'] == 'Masters 1000') | (df_fedal['Series'] == 'Masters Cup')\n",
    "df_fedal_atp1000_gs_atpfinals = df_fedal[filtro_atp1000_gs_finals]\n",
    "df_fedal_atp1000_gs_atpfinals.head()"
   ]
  },
  {
   "cell_type": "code",
   "execution_count": 6,
   "metadata": {},
   "outputs": [],
   "source": [
    "# Conquistas N. Djokovic\n",
    "\n",
    "# ATP Finals\n",
    "filtro_djokovic_atpfinals = (df_fedal_atp1000_gs_atpfinals['Round'] == 'The Final') & (df_fedal_atp1000_gs_atpfinals['Winner'] == 'Djokovic N.') & (df_fedal_atp1000_gs_atpfinals['Series'] == 'Masters Cup')\n",
    "df_djokovic_atpfinals = df_fedal_atp1000_gs_atpfinals[filtro_djokovic_atpfinals]\n",
    "\n",
    "# Grand Slams\n",
    "filtro_djokovic_gs = (df_fedal_atp1000_gs_atpfinals['Round'] == 'The Final') & (df_fedal_atp1000_gs_atpfinals['Winner'] == 'Djokovic N.') & (df_fedal_atp1000_gs_atpfinals['Series'] == 'Grand Slam')\n",
    "df_djokovic_gs = df_fedal_atp1000_gs_atpfinals[filtro_djokovic_gs]\n",
    "\n",
    "# ATP 1000\n",
    "filtro_djokovic_atp1000 = (df_fedal_atp1000_gs_atpfinals['Round'] == 'The Final') & (df_fedal_atp1000_gs_atpfinals['Winner'] == 'Djokovic N.') & (df_fedal_atp1000_gs_atpfinals['Series'] == 'Masters 1000')\n",
    "df_djokovic_atp1000 = df_fedal_atp1000_gs_atpfinals[filtro_djokovic_atp1000]\n",
    "\n",
    "# Vitórias em confrontos diretos - N. Djokovic\n",
    "filtro_djokovic_confrontos = (df_fedal_atp1000_gs_atpfinals['Round'] != 'The Final') & (df_fedal_atp1000_gs_atpfinals['Winner'] == 'Djokovic N.') & ((df_fedal_atp1000_gs_atpfinals['Loser'] == 'Federer R.') | (df_fedal_atp1000_gs_atpfinals['Loser'] == 'Nadal R.'))\n",
    "df_djokovic_confrontos = df_fedal_atp1000_gs_atpfinals[filtro_djokovic_confrontos]"
   ]
  },
  {
   "cell_type": "code",
   "execution_count": 7,
   "metadata": {},
   "outputs": [
    {
     "name": "stdout",
     "output_type": "stream",
     "text": [
      "45\n"
     ]
    }
   ],
   "source": [
    "# Vitórias do Djokovic em finais de Grand Slams e Masters 1000 e em confrontos diretos contra Nadal ou Federer\n",
    "\n",
    "djoko_vitorias_atpfinals = len(df_djokovic_atpfinals)\n",
    "djoko_vitorias_gs = len(df_djokovic_gs)\n",
    "djoko_vitorias_atp1000 = len(df_djokovic_atp1000)\n",
    "djoko_vitorias_confrontos_diretos = len(df_djokovic_confrontos)\n",
    "\n",
    "# print(djoko_vitorias_confrontos_diretos)\n",
    "\n",
    "# Vitórias Djokovic - em finais e confrontos diretos\n",
    "djoko_vitorias = djoko_vitorias_atpfinals + djoko_vitorias_gs + djoko_vitorias_atp1000 + djoko_vitorias_confrontos_diretos\n",
    "print(djoko_vitorias)"
   ]
  },
  {
   "cell_type": "code",
   "execution_count": 8,
   "metadata": {},
   "outputs": [
    {
     "name": "stdout",
     "output_type": "stream",
     "text": [
      "73\n"
     ]
    }
   ],
   "source": [
    "# Finais e confrontos diretos disputados com Federer e Nadal\n",
    "\n",
    "filtro_finais_disputadas_fedal = (df_fedal_atp1000_gs_atpfinals['Round'] == 'The Final') & ((df_fedal_atp1000_gs_atpfinals['Player_1'] == 'Djokovic N.') | (df_fedal_atp1000_gs_atpfinals['Player_2'] == 'Djokovic N.'))\n",
    "df_finais_disputadas_sem_fedal = df_fedal_atp1000_gs_atpfinals[filtro_finais_disputadas_fedal]\n",
    "\n",
    "filtro_confrontosd_disputados = (df_fedal_atp1000_gs_atpfinals['Round'] != 'The Final') & ((df_fedal_atp1000_gs_atpfinals['Winner'] == 'Djokovic N.') | (df_fedal_atp1000_gs_atpfinals['Winner'] == 'Nadal R.') | (df_fedal_atp1000_gs_atpfinals['Winner'] == 'Federer R.')) & ((df_fedal_atp1000_gs_atpfinals['Loser'] == 'Federer R.') | (df_fedal_atp1000_gs_atpfinals['Loser'] == 'Nadal R.') | (df_fedal_atp1000_gs_atpfinals['Loser'] == 'Djokovic N.'))\n",
    "df_confrontosd_disputados = df_fedal_atp1000_gs_atpfinals[filtro_confrontosd_disputados]\n",
    "\n",
    "finais_confrontosd_disputados_fedal = len(df_finais_disputadas_sem_fedal) + len(df_confrontosd_disputados)\n",
    "print(finais_confrontosd_disputados_fedal)"
   ]
  },
  {
   "cell_type": "markdown",
   "metadata": {},
   "source": [
    "Partidas em que Nadal ou Federer venceram Djokovic em Grand Slams, Masters 1000, ATP Finals ou em confrontos diretos"
   ]
  },
  {
   "cell_type": "code",
   "execution_count": 9,
   "metadata": {},
   "outputs": [],
   "source": [
    "filtro_fedal_vencem_djokovic = ((df_fedal_atp1000_gs_atpfinals['Winner'] == 'Nadal R.') | (df_fedal_atp1000_gs_atpfinals['Winner'] == 'Federer R.')) & (df_fedal_atp1000_gs_atpfinals['Loser'] == 'Djokovic N.')\n",
    "df_fedal_vencem_djokovic = df_fedal_atp1000_gs_atpfinals[filtro_fedal_vencem_djokovic]\n",
    "\n",
    "# Vitórias Federer e Nadal sobre Djokovic\n",
    "fedal_vitorias_sobre_djoko = len(df_fedal_vencem_djokovic)\n",
    "# print(fedal_vitorias_sobre_djoko)"
   ]
  },
  {
   "cell_type": "code",
   "execution_count": 10,
   "metadata": {},
   "outputs": [
    {
     "data": {
      "text/plain": [
       "array(['ATP250', 'Grand Slam', 'ATP500', 'Masters 1000', 'Masters Cup'],\n",
       "      dtype=object)"
      ]
     },
     "execution_count": 10,
     "metadata": {},
     "output_type": "execute_result"
    }
   ],
   "source": [
    "# Valores da coluna 'Series'\n",
    "df['Series'].unique()\n"
   ]
  },
  {
   "cell_type": "markdown",
   "metadata": {},
   "source": [
    "2021 até 2023"
   ]
  },
  {
   "cell_type": "code",
   "execution_count": 11,
   "metadata": {},
   "outputs": [],
   "source": [
    "# Filtro anos 2021, 2022 e 2023 (análise sem Nadal e Federer)\n",
    "filtro_2021_ate_2023 = (df['Date'] > '2021-01-01') & (df['Date'] < '2024-01-01')\n",
    "df_2021_ate_2023 = df[filtro_2021_ate_2023]\n",
    "\n",
    "# Filtro desses anos, mas somente os torneios ATP 1000, Grand Slam e ATP Finals\n",
    "filtro_atp1000_gs_finals = (df_2021_ate_2023['Series'] == 'Grand Slam') | (df_2021_ate_2023['Series'] == 'Masters 1000') | (df_2021_ate_2023['Series'] == 'Masters Cup')\n",
    "df_2021_ate_2023_atp1000_gs_atpfinals = df_2021_ate_2023[filtro_atp1000_gs_finals]\n",
    "# df_2021_ate_2023_atp1000_gs_atpfinals.head()"
   ]
  },
  {
   "cell_type": "code",
   "execution_count": 12,
   "metadata": {},
   "outputs": [],
   "source": [
    "# Conquistas N. Djokovic de 2021 até 2023\n",
    "\n",
    "# ATP Finals\n",
    "filtro_djokovic_atpfinals_21_23 = (df_2021_ate_2023_atp1000_gs_atpfinals['Round'] == 'The Final') & (df_2021_ate_2023_atp1000_gs_atpfinals['Winner'] == 'Djokovic N.') & (df_2021_ate_2023_atp1000_gs_atpfinals['Series'] == 'Masters Cup')\n",
    "df_djokovic_atpfinals_21_23 = df_2021_ate_2023_atp1000_gs_atpfinals[filtro_djokovic_atpfinals_21_23]\n",
    "\n",
    "# Grand Slams\n",
    "filtro_djokovic_gs_21_23 = (df_2021_ate_2023_atp1000_gs_atpfinals['Round'] == 'The Final') & (df_2021_ate_2023_atp1000_gs_atpfinals['Winner'] == 'Djokovic N.') & (df_2021_ate_2023_atp1000_gs_atpfinals['Series'] == 'Grand Slam')\n",
    "df_djokovic_gs_21_23 = df_2021_ate_2023_atp1000_gs_atpfinals[filtro_djokovic_gs_21_23]\n",
    "\n",
    "# ATP 1000\n",
    "filtro_djokovic_atp1000_21_23 = (df_2021_ate_2023_atp1000_gs_atpfinals['Round'] == 'The Final') & (df_2021_ate_2023_atp1000_gs_atpfinals['Winner'] == 'Djokovic N.') & (df_2021_ate_2023_atp1000_gs_atpfinals['Series'] == 'Masters 1000')\n",
    "df_djokovic_atp1000_21_23 = df_2021_ate_2023_atp1000_gs_atpfinals[filtro_djokovic_atp1000_21_23]\n",
    "\n",
    "# ASSUMO QUE ELES NÃO JOAGARAM PELO MENOS UM POUCO DE 2021 ATÉ 2023???\n",
    "# Vitórias em confrontos diretos - N. Djokovic\n",
    "filtro_djokovic_confrontos_21_23 = (df_2021_ate_2023_atp1000_gs_atpfinals['Round'] != 'The Final') & (df_2021_ate_2023_atp1000_gs_atpfinals['Winner'] == 'Djokovic N.') & ((df_2021_ate_2023_atp1000_gs_atpfinals['Loser'] == 'Federer R.') | (df_2021_ate_2023_atp1000_gs_atpfinals['Loser'] == 'Nadal R.'))\n",
    "df_djokovic_confrontos_21_23 = df_2021_ate_2023_atp1000_gs_atpfinals[filtro_djokovic_confrontos_21_23]\n",
    "# df_djokovic_confrontos_21_23.head()"
   ]
  },
  {
   "cell_type": "code",
   "execution_count": 13,
   "metadata": {},
   "outputs": [
    {
     "name": "stdout",
     "output_type": "stream",
     "text": [
      "8\n"
     ]
    }
   ],
   "source": [
    "# Vitórias do Djokovic em finais de Grand Slams, Masters 1000 e ATP Finals de 2021 até 2023\n",
    "\n",
    "djoko_vitorias_atpfinals_21_23 = len(df_djokovic_atpfinals_21_23)\n",
    "djoko_vitorias_gs_21_23 = len(df_djokovic_gs_21_23)\n",
    "djoko_vitorias_atp1000_21_23 = len(df_djokovic_atp1000_21_23)\n",
    "\n",
    "\n",
    "# Vitórias Djokovic - em finais e confrontos diretos\n",
    "djoko_vitorias_21_23 = djoko_vitorias_atpfinals_21_23 + djoko_vitorias_gs_21_23 + djoko_vitorias_atp1000_21_23\n",
    "print(djoko_vitorias_21_23)"
   ]
  },
  {
   "cell_type": "code",
   "execution_count": 14,
   "metadata": {},
   "outputs": [
    {
     "name": "stdout",
     "output_type": "stream",
     "text": [
      "11\n"
     ]
    }
   ],
   "source": [
    "# Finais disputadas sem Federer e Nadal\n",
    "\n",
    "filtro_finais_disputadas_sem_fedal = (df_2021_ate_2023_atp1000_gs_atpfinals['Round'] == 'The Final') & ((df_2021_ate_2023_atp1000_gs_atpfinals['Player_1'] == 'Djokovic N.') | (df_2021_ate_2023_atp1000_gs_atpfinals['Player_2'] == 'Djokovic N.'))\n",
    "df_finais_disputadas_sem_fedal = df_2021_ate_2023_atp1000_gs_atpfinals[filtro_finais_disputadas_sem_fedal]\n",
    "\n",
    "finais_disputadas_sem_fedal = len(df_finais_disputadas_sem_fedal)\n",
    "print(finais_disputadas_sem_fedal)"
   ]
  },
  {
   "cell_type": "code",
   "execution_count": 15,
   "metadata": {},
   "outputs": [
    {
     "name": "stdout",
     "output_type": "stream",
     "text": [
      "0.6164383561643836\n",
      "0.7272727272727273\n"
     ]
    }
   ],
   "source": [
    "# P-value\n",
    "# CR (Convertion Rate) = Vitórias / Finais Disputadas\n",
    "cr_com_fedal = djoko_vitorias / finais_confrontosd_disputados_fedal\n",
    "print(cr_com_fedal)\n",
    "cr_sem_fedal = djoko_vitorias_21_23 / finais_disputadas_sem_fedal\n",
    "print(cr_sem_fedal)"
   ]
  },
  {
   "cell_type": "code",
   "execution_count": 16,
   "metadata": {},
   "outputs": [
    {
     "name": "stdout",
     "output_type": "stream",
     "text": [
      "0.33645104336270315\n"
     ]
    }
   ],
   "source": [
    "# Teste de hipótese\n",
    "print(1-stats.binom.cdf(k=djoko_vitorias_21_23-1, n=finais_disputadas_sem_fedal, p=cr_com_fedal))\n"
   ]
  },
  {
   "cell_type": "code",
   "execution_count": 17,
   "metadata": {},
   "outputs": [],
   "source": [
    "# Significa que é difícil analisar estatísticamente o impacto de ambos os jogadores sobre o Djoko, porém obtivemos um resultado de 33.64% de chance \n",
    "# de o Djoko repetir números semelhantes aos de 2013 até 2019 ou até mais absurdos atualmente com a presença dos dois. "
   ]
  },
  {
   "cell_type": "code",
   "execution_count": 18,
   "metadata": {},
   "outputs": [],
   "source": [
    "# Usamos a distribuição binomial pois é uma distribuição discreta, já que o número de finais disputadas (meu \"n\") é um número inteiro."
   ]
  }
 ],
 "metadata": {
  "kernelspec": {
   "display_name": "Python 3",
   "language": "python",
   "name": "python3"
  },
  "language_info": {
   "codemirror_mode": {
    "name": "ipython",
    "version": 3
   },
   "file_extension": ".py",
   "mimetype": "text/x-python",
   "name": "python",
   "nbconvert_exporter": "python",
   "pygments_lexer": "ipython3",
   "version": "3.10.9"
  }
 },
 "nbformat": 4,
 "nbformat_minor": 2
}
